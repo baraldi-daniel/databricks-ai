{
 "cells": [
  {
   "cell_type": "markdown",
   "metadata": {
    "application/vnd.databricks.v1+cell": {
     "cellMetadata": {
      "byteLimit": 2048000,
      "rowLimit": 10000
     },
     "inputWidgets": {},
     "nuid": "0ea2d3d8-7455-4b37-8099-6645e40e56a6",
     "showTitle": false,
     "tableResultSettingsMap": {},
     "title": ""
    }
   },
   "source": [
    "![](image.png)"
   ]
  },
  {
   "cell_type": "markdown",
   "metadata": {
    "application/vnd.databricks.v1+cell": {
     "cellMetadata": {
      "byteLimit": 2048000,
      "rowLimit": 10000
     },
     "inputWidgets": {},
     "nuid": "b7f8f97e-fb6c-4472-a935-569b5961e994",
     "showTitle": false,
     "tableResultSettingsMap": {},
     "title": ""
    }
   },
   "source": [
    "## Criação do Prompt via UI"
   ]
  },
  {
   "cell_type": "code",
   "execution_count": 0,
   "metadata": {
    "application/vnd.databricks.v1+cell": {
     "cellMetadata": {
      "byteLimit": 2048000,
      "rowLimit": 10000
     },
     "inputWidgets": {},
     "nuid": "9f7aaca4-3d28-429d-b2e6-ead090d6d644",
     "showTitle": false,
     "tableResultSettingsMap": {},
     "title": ""
    }
   },
   "outputs": [
    {
     "output_type": "execute_result",
     "data": {
      "text/plain": [
       "DataFrame[]"
      ]
     },
     "execution_count": 1,
     "metadata": {},
     "output_type": "execute_result"
    }
   ],
   "source": [
    "# Substitua o catálogo e o schema que irá usar e crie\n",
    "CATALOG_NAME = \"baraldi_catalog_new\"\n",
    "SCHEMA_NAME = \"genai\"\n",
    "\n",
    "spark.sql(f\"CREATE CATALOG IF NOT EXISTS {CATALOG_NAME}\")\n",
    "spark.sql(f\"CREATE SCHEMA IF NOT EXISTS {CATALOG_NAME}.{SCHEMA_NAME}\")"
   ]
  },
  {
   "cell_type": "code",
   "execution_count": 0,
   "metadata": {
    "application/vnd.databricks.v1+cell": {
     "cellMetadata": {
      "byteLimit": 2048000,
      "rowLimit": 10000
     },
     "inputWidgets": {},
     "nuid": "c68eba51-a576-4037-a15e-d1e776c1d46b",
     "showTitle": false,
     "tableResultSettingsMap": {},
     "title": ""
    }
   },
   "outputs": [],
   "source": [
    "# Crie um experimento (aba Experiments), coloque um nome e vá na aba de prompts"
   ]
  },
  {
   "cell_type": "markdown",
   "metadata": {
    "application/vnd.databricks.v1+cell": {
     "cellMetadata": {
      "byteLimit": 2048000,
      "rowLimit": 10000
     },
     "inputWidgets": {},
     "nuid": "8761a239-4544-4622-bd9b-c4ce315cd903",
     "showTitle": false,
     "tableResultSettingsMap": {},
     "title": ""
    }
   },
   "source": [
    "![PromptUI.png](./PromptUI.png \"PromptUI.png\")"
   ]
  },
  {
   "cell_type": "markdown",
   "metadata": {
    "application/vnd.databricks.v1+cell": {
     "cellMetadata": {
      "byteLimit": 2048000,
      "rowLimit": 10000
     },
     "inputWidgets": {},
     "nuid": "a1795474-868f-4269-a408-cd0b0ba64b15",
     "showTitle": false,
     "tableResultSettingsMap": {},
     "title": ""
    }
   },
   "source": [
    "![PromptUI2.png](./PromptUI2.png \"PromptUI2.png\")"
   ]
  },
  {
   "cell_type": "markdown",
   "metadata": {
    "application/vnd.databricks.v1+cell": {
     "cellMetadata": {
      "byteLimit": 2048000,
      "rowLimit": 10000
     },
     "inputWidgets": {},
     "nuid": "497115cb-e632-46f6-b01b-ee28babf73bc",
     "showTitle": false,
     "tableResultSettingsMap": {},
     "title": ""
    }
   },
   "source": [
    "![PromptUI3.png](./PromptUI3.png \"PromptUI3.png\")"
   ]
  },
  {
   "cell_type": "markdown",
   "metadata": {
    "application/vnd.databricks.v1+cell": {
     "cellMetadata": {
      "byteLimit": 2048000,
      "rowLimit": 10000
     },
     "inputWidgets": {},
     "nuid": "db75120b-9b0f-4185-8826-9d9c3db64e23",
     "showTitle": false,
     "tableResultSettingsMap": {},
     "title": ""
    }
   },
   "source": [
    "### Criação com Python SDK"
   ]
  },
  {
   "cell_type": "code",
   "execution_count": 0,
   "metadata": {
    "application/vnd.databricks.v1+cell": {
     "cellMetadata": {
      "byteLimit": 2048000,
      "rowLimit": 10000
     },
     "inputWidgets": {},
     "nuid": "b48bf440-d3e1-404b-9086-07d30c2c9dc4",
     "showTitle": false,
     "tableResultSettingsMap": {},
     "title": ""
    }
   },
   "outputs": [
    {
     "output_type": "stream",
     "name": "stdout",
     "output_type": "stream",
     "text": [
      "Requirement already satisfied: mlflow in /local_disk0/.ephemeral_nfs/envs/pythonEnv-70d5c1f9-cc9c-46eb-931f-843db9ea7b9f/lib/python3.12/site-packages (3.4.0)\nRequirement already satisfied: mlflow-skinny==3.4.0 in /local_disk0/.ephemeral_nfs/envs/pythonEnv-70d5c1f9-cc9c-46eb-931f-843db9ea7b9f/lib/python3.12/site-packages (from mlflow) (3.4.0)\nRequirement already satisfied: mlflow-tracing==3.4.0 in /local_disk0/.ephemeral_nfs/envs/pythonEnv-70d5c1f9-cc9c-46eb-931f-843db9ea7b9f/lib/python3.12/site-packages (from mlflow) (3.4.0)\nRequirement already satisfied: Flask<4 in /local_disk0/.ephemeral_nfs/envs/pythonEnv-70d5c1f9-cc9c-46eb-931f-843db9ea7b9f/lib/python3.12/site-packages (from mlflow) (3.1.2)\nRequirement already satisfied: alembic!=1.10.0,<2 in /local_disk0/.ephemeral_nfs/envs/pythonEnv-70d5c1f9-cc9c-46eb-931f-843db9ea7b9f/lib/python3.12/site-packages (from mlflow) (1.16.5)\nRequirement already satisfied: cryptography<46,>=43.0.0 in /local_disk0/.ephemeral_nfs/envs/pythonEnv-70d5c1f9-cc9c-46eb-931f-843db9ea7b9f/lib/python3.12/site-packages (from mlflow) (45.0.7)\nRequirement already satisfied: docker<8,>=4.0.0 in /local_disk0/.ephemeral_nfs/envs/pythonEnv-70d5c1f9-cc9c-46eb-931f-843db9ea7b9f/lib/python3.12/site-packages (from mlflow) (7.1.0)\nRequirement already satisfied: fastmcp<3,>=2.0.0 in /local_disk0/.ephemeral_nfs/envs/pythonEnv-70d5c1f9-cc9c-46eb-931f-843db9ea7b9f/lib/python3.12/site-packages (from mlflow) (2.12.3)\nRequirement already satisfied: graphene<4 in /local_disk0/.ephemeral_nfs/envs/pythonEnv-70d5c1f9-cc9c-46eb-931f-843db9ea7b9f/lib/python3.12/site-packages (from mlflow) (3.4.3)\nRequirement already satisfied: gunicorn<24 in /local_disk0/.ephemeral_nfs/envs/pythonEnv-70d5c1f9-cc9c-46eb-931f-843db9ea7b9f/lib/python3.12/site-packages (from mlflow) (23.0.0)\nRequirement already satisfied: matplotlib<4 in /databricks/python3/lib/python3.12/site-packages (from mlflow) (3.8.4)\nRequirement already satisfied: numpy<3 in /databricks/python3/lib/python3.12/site-packages (from mlflow) (1.26.4)\nRequirement already satisfied: pandas<3 in /databricks/python3/lib/python3.12/site-packages (from mlflow) (1.5.3)\nRequirement already satisfied: pyarrow<22,>=4.0.0 in /databricks/python3/lib/python3.12/site-packages (from mlflow) (15.0.2)\nRequirement already satisfied: scikit-learn<2 in /databricks/python3/lib/python3.12/site-packages (from mlflow) (1.4.2)\nRequirement already satisfied: scipy<2 in /databricks/python3/lib/python3.12/site-packages (from mlflow) (1.13.1)\nRequirement already satisfied: sqlalchemy<3,>=1.4.0 in /local_disk0/.ephemeral_nfs/envs/pythonEnv-70d5c1f9-cc9c-46eb-931f-843db9ea7b9f/lib/python3.12/site-packages (from mlflow) (2.0.43)\nRequirement already satisfied: cachetools<7,>=5.0.0 in /databricks/python3/lib/python3.12/site-packages (from mlflow-skinny==3.4.0->mlflow) (5.3.3)\nRequirement already satisfied: click<9,>=7.0 in /databricks/python3/lib/python3.12/site-packages (from mlflow-skinny==3.4.0->mlflow) (8.1.7)\nRequirement already satisfied: cloudpickle<4 in /databricks/python3/lib/python3.12/site-packages (from mlflow-skinny==3.4.0->mlflow) (3.0.0)\nRequirement already satisfied: databricks-sdk<1,>=0.20.0 in /databricks/python3/lib/python3.12/site-packages (from mlflow-skinny==3.4.0->mlflow) (0.49.0)\nRequirement already satisfied: fastapi<1 in /databricks/python3/lib/python3.12/site-packages (from mlflow-skinny==3.4.0->mlflow) (0.115.12)\nRequirement already satisfied: gitpython<4,>=3.1.9 in /databricks/python3/lib/python3.12/site-packages (from mlflow-skinny==3.4.0->mlflow) (3.1.37)\nRequirement already satisfied: importlib_metadata!=4.7.0,<9,>=3.7.0 in /databricks/python3/lib/python3.12/site-packages (from mlflow-skinny==3.4.0->mlflow) (7.0.1)\nRequirement already satisfied: opentelemetry-api<3,>=1.9.0 in /databricks/python3/lib/python3.12/site-packages (from mlflow-skinny==3.4.0->mlflow) (1.31.1)\nRequirement already satisfied: opentelemetry-proto<3,>=1.9.0 in /local_disk0/.ephemeral_nfs/envs/pythonEnv-70d5c1f9-cc9c-46eb-931f-843db9ea7b9f/lib/python3.12/site-packages (from mlflow-skinny==3.4.0->mlflow) (1.37.0)\nRequirement already satisfied: opentelemetry-sdk<3,>=1.9.0 in /databricks/python3/lib/python3.12/site-packages (from mlflow-skinny==3.4.0->mlflow) (1.31.1)\nRequirement already satisfied: packaging<26 in /databricks/python3/lib/python3.12/site-packages (from mlflow-skinny==3.4.0->mlflow) (24.1)\nRequirement already satisfied: protobuf<7,>=3.12.0 in /databricks/python3/lib/python3.12/site-packages (from mlflow-skinny==3.4.0->mlflow) (5.29.4)\nRequirement already satisfied: pydantic<3,>=1.10.8 in /local_disk0/.ephemeral_nfs/envs/pythonEnv-70d5c1f9-cc9c-46eb-931f-843db9ea7b9f/lib/python3.12/site-packages (from mlflow-skinny==3.4.0->mlflow) (2.11.9)\nRequirement already satisfied: python-dotenv<2,>=0.19.0 in /local_disk0/.ephemeral_nfs/envs/pythonEnv-70d5c1f9-cc9c-46eb-931f-843db9ea7b9f/lib/python3.12/site-packages (from mlflow-skinny==3.4.0->mlflow) (1.1.1)\nRequirement already satisfied: pyyaml<7,>=5.1 in /databricks/python3/lib/python3.12/site-packages (from mlflow-skinny==3.4.0->mlflow) (6.0.1)\nRequirement already satisfied: requests<3,>=2.17.3 in /databricks/python3/lib/python3.12/site-packages (from mlflow-skinny==3.4.0->mlflow) (2.32.2)\nRequirement already satisfied: sqlparse<1,>=0.4.0 in /databricks/python3/lib/python3.12/site-packages (from mlflow-skinny==3.4.0->mlflow) (0.5.3)\nRequirement already satisfied: typing-extensions<5,>=4.0.0 in /local_disk0/.ephemeral_nfs/envs/pythonEnv-70d5c1f9-cc9c-46eb-931f-843db9ea7b9f/lib/python3.12/site-packages (from mlflow-skinny==3.4.0->mlflow) (4.15.0)\nRequirement already satisfied: uvicorn<1 in /databricks/python3/lib/python3.12/site-packages (from mlflow-skinny==3.4.0->mlflow) (0.34.0)\nRequirement already satisfied: Mako in /local_disk0/.ephemeral_nfs/envs/pythonEnv-70d5c1f9-cc9c-46eb-931f-843db9ea7b9f/lib/python3.12/site-packages (from alembic!=1.10.0,<2->mlflow) (1.3.10)\nRequirement already satisfied: cffi>=1.14 in /databricks/python3/lib/python3.12/site-packages (from cryptography<46,>=43.0.0->mlflow) (1.16.0)\nRequirement already satisfied: urllib3>=1.26.0 in /databricks/python3/lib/python3.12/site-packages (from docker<8,>=4.0.0->mlflow) (2.2.2)\nRequirement already satisfied: authlib>=1.5.2 in /local_disk0/.ephemeral_nfs/envs/pythonEnv-70d5c1f9-cc9c-46eb-931f-843db9ea7b9f/lib/python3.12/site-packages (from fastmcp<3,>=2.0.0->mlflow) (1.6.4)\nRequirement already satisfied: cyclopts>=3.0.0 in /local_disk0/.ephemeral_nfs/envs/pythonEnv-70d5c1f9-cc9c-46eb-931f-843db9ea7b9f/lib/python3.12/site-packages (from fastmcp<3,>=2.0.0->mlflow) (3.24.0)\nRequirement already satisfied: exceptiongroup>=1.2.2 in /local_disk0/.ephemeral_nfs/envs/pythonEnv-70d5c1f9-cc9c-46eb-931f-843db9ea7b9f/lib/python3.12/site-packages (from fastmcp<3,>=2.0.0->mlflow) (1.3.0)\nRequirement already satisfied: httpx>=0.28.1 in /local_disk0/.ephemeral_nfs/envs/pythonEnv-70d5c1f9-cc9c-46eb-931f-843db9ea7b9f/lib/python3.12/site-packages (from fastmcp<3,>=2.0.0->mlflow) (0.28.1)\nRequirement already satisfied: mcp<2.0.0,>=1.12.4 in /local_disk0/.ephemeral_nfs/envs/pythonEnv-70d5c1f9-cc9c-46eb-931f-843db9ea7b9f/lib/python3.12/site-packages (from fastmcp<3,>=2.0.0->mlflow) (1.14.1)\nRequirement already satisfied: openapi-core>=0.19.5 in /local_disk0/.ephemeral_nfs/envs/pythonEnv-70d5c1f9-cc9c-46eb-931f-843db9ea7b9f/lib/python3.12/site-packages (from fastmcp<3,>=2.0.0->mlflow) (0.19.5)\nRequirement already satisfied: openapi-pydantic>=0.5.1 in /local_disk0/.ephemeral_nfs/envs/pythonEnv-70d5c1f9-cc9c-46eb-931f-843db9ea7b9f/lib/python3.12/site-packages (from fastmcp<3,>=2.0.0->mlflow) (0.5.1)\nRequirement already satisfied: pyperclip>=1.9.0 in /local_disk0/.ephemeral_nfs/envs/pythonEnv-70d5c1f9-cc9c-46eb-931f-843db9ea7b9f/lib/python3.12/site-packages (from fastmcp<3,>=2.0.0->mlflow) (1.10.0)\nRequirement already satisfied: rich>=13.9.4 in /local_disk0/.ephemeral_nfs/envs/pythonEnv-70d5c1f9-cc9c-46eb-931f-843db9ea7b9f/lib/python3.12/site-packages (from fastmcp<3,>=2.0.0->mlflow) (14.1.0)\nRequirement already satisfied: blinker>=1.9.0 in /local_disk0/.ephemeral_nfs/envs/pythonEnv-70d5c1f9-cc9c-46eb-931f-843db9ea7b9f/lib/python3.12/site-packages (from Flask<4->mlflow) (1.9.0)\nRequirement already satisfied: itsdangerous>=2.2.0 in /local_disk0/.ephemeral_nfs/envs/pythonEnv-70d5c1f9-cc9c-46eb-931f-843db9ea7b9f/lib/python3.12/site-packages (from Flask<4->mlflow) (2.2.0)\nRequirement already satisfied: jinja2>=3.1.2 in /local_disk0/.ephemeral_nfs/envs/pythonEnv-70d5c1f9-cc9c-46eb-931f-843db9ea7b9f/lib/python3.12/site-packages (from Flask<4->mlflow) (3.1.6)\nRequirement already satisfied: markupsafe>=2.1.1 in /local_disk0/.ephemeral_nfs/envs/pythonEnv-70d5c1f9-cc9c-46eb-931f-843db9ea7b9f/lib/python3.12/site-packages (from Flask<4->mlflow) (3.0.2)\nRequirement already satisfied: werkzeug>=3.1.0 in /local_disk0/.ephemeral_nfs/envs/pythonEnv-70d5c1f9-cc9c-46eb-931f-843db9ea7b9f/lib/python3.12/site-packages (from Flask<4->mlflow) (3.1.1)\nRequirement already satisfied: graphql-core<3.3,>=3.1 in /local_disk0/.ephemeral_nfs/envs/pythonEnv-70d5c1f9-cc9c-46eb-931f-843db9ea7b9f/lib/python3.12/site-packages (from graphene<4->mlflow) (3.2.6)\nRequirement already satisfied: graphql-relay<3.3,>=3.1 in /local_disk0/.ephemeral_nfs/envs/pythonEnv-70d5c1f9-cc9c-46eb-931f-843db9ea7b9f/lib/python3.12/site-packages (from graphene<4->mlflow) (3.2.0)\nRequirement already satisfied: python-dateutil<3,>=2.7.0 in /databricks/python3/lib/python3.12/site-packages (from graphene<4->mlflow) (2.9.0.post0)\nRequirement already satisfied: contourpy>=1.0.1 in /databricks/python3/lib/python3.12/site-packages (from matplotlib<4->mlflow) (1.2.0)\nRequirement already satisfied: cycler>=0.10 in /databricks/python3/lib/python3.12/site-packages (from matplotlib<4->mlflow) (0.11.0)\nRequirement already satisfied: fonttools>=4.22.0 in /databricks/python3/lib/python3.12/site-packages (from matplotlib<4->mlflow) (4.51.0)\nRequirement already satisfied: kiwisolver>=1.3.1 in /databricks/python3/lib/python3.12/site-packages (from matplotlib<4->mlflow) (1.4.4)\nRequirement already satisfied: pillow>=8 in /databricks/python3/lib/python3.12/site-packages (from matplotlib<4->mlflow) (10.3.0)\nRequirement already satisfied: pyparsing>=2.3.1 in /databricks/python3/lib/python3.12/site-packages (from matplotlib<4->mlflow) (3.0.9)\nRequirement already satisfied: pytz>=2020.1 in /databricks/python3/lib/python3.12/site-packages (from pandas<3->mlflow) (2024.1)\nRequirement already satisfied: joblib>=1.2.0 in /databricks/python3/lib/python3.12/site-packages (from scikit-learn<2->mlflow) (1.4.2)\nRequirement already satisfied: threadpoolctl>=2.0.0 in /databricks/python3/lib/python3.12/site-packages (from scikit-learn<2->mlflow) (2.2.0)\nRequirement already satisfied: greenlet>=1 in /local_disk0/.ephemeral_nfs/envs/pythonEnv-70d5c1f9-cc9c-46eb-931f-843db9ea7b9f/lib/python3.12/site-packages (from sqlalchemy<3,>=1.4.0->mlflow) (3.2.4)\nRequirement already satisfied: pycparser in /databricks/python3/lib/python3.12/site-packages (from cffi>=1.14->cryptography<46,>=43.0.0->mlflow) (2.21)\nRequirement already satisfied: attrs>=23.1.0 in /local_disk0/.ephemeral_nfs/envs/pythonEnv-70d5c1f9-cc9c-46eb-931f-843db9ea7b9f/lib/python3.12/site-packages (from cyclopts>=3.0.0->fastmcp<3,>=2.0.0->mlflow) (25.3.0)\nRequirement already satisfied: docstring-parser>=0.15 in /local_disk0/.ephemeral_nfs/envs/pythonEnv-70d5c1f9-cc9c-46eb-931f-843db9ea7b9f/lib/python3.12/site-packages (from cyclopts>=3.0.0->fastmcp<3,>=2.0.0->mlflow) (0.17.0)\nRequirement already satisfied: rich-rst<2.0.0,>=1.3.1 in /local_disk0/.ephemeral_nfs/envs/pythonEnv-70d5c1f9-cc9c-46eb-931f-843db9ea7b9f/lib/python3.12/site-packages (from cyclopts>=3.0.0->fastmcp<3,>=2.0.0->mlflow) (1.3.1)\nRequirement already satisfied: google-auth~=2.0 in /databricks/python3/lib/python3.12/site-packages (from databricks-sdk<1,>=0.20.0->mlflow-skinny==3.4.0->mlflow) (2.38.0)\nRequirement already satisfied: starlette<0.47.0,>=0.40.0 in /databricks/python3/lib/python3.12/site-packages (from fastapi<1->mlflow-skinny==3.4.0->mlflow) (0.46.1)\nRequirement already satisfied: gitdb<5,>=4.0.1 in /databricks/python3/lib/python3.12/site-packages (from gitpython<4,>=3.1.9->mlflow-skinny==3.4.0->mlflow) (4.0.11)\nRequirement already satisfied: anyio in /local_disk0/.ephemeral_nfs/envs/pythonEnv-70d5c1f9-cc9c-46eb-931f-843db9ea7b9f/lib/python3.12/site-packages (from httpx>=0.28.1->fastmcp<3,>=2.0.0->mlflow) (4.11.0)\nRequirement already satisfied: certifi in /databricks/python3/lib/python3.12/site-packages (from httpx>=0.28.1->fastmcp<3,>=2.0.0->mlflow) (2024.6.2)\nRequirement already satisfied: httpcore==1.* in /local_disk0/.ephemeral_nfs/envs/pythonEnv-70d5c1f9-cc9c-46eb-931f-843db9ea7b9f/lib/python3.12/site-packages (from httpx>=0.28.1->fastmcp<3,>=2.0.0->mlflow) (1.0.9)\nRequirement already satisfied: idna in /databricks/python3/lib/python3.12/site-packages (from httpx>=0.28.1->fastmcp<3,>=2.0.0->mlflow) (3.7)\nRequirement already satisfied: h11>=0.16 in /local_disk0/.ephemeral_nfs/envs/pythonEnv-70d5c1f9-cc9c-46eb-931f-843db9ea7b9f/lib/python3.12/site-packages (from httpcore==1.*->httpx>=0.28.1->fastmcp<3,>=2.0.0->mlflow) (0.16.0)\nRequirement already satisfied: zipp>=0.5 in /databricks/python3/lib/python3.12/site-packages (from importlib_metadata!=4.7.0,<9,>=3.7.0->mlflow-skinny==3.4.0->mlflow) (3.17.0)\nRequirement already satisfied: httpx-sse>=0.4 in /local_disk0/.ephemeral_nfs/envs/pythonEnv-70d5c1f9-cc9c-46eb-931f-843db9ea7b9f/lib/python3.12/site-packages (from mcp<2.0.0,>=1.12.4->fastmcp<3,>=2.0.0->mlflow) (0.4.1)\nRequirement already satisfied: jsonschema>=4.20.0 in /local_disk0/.ephemeral_nfs/envs/pythonEnv-70d5c1f9-cc9c-46eb-931f-843db9ea7b9f/lib/python3.12/site-packages (from mcp<2.0.0,>=1.12.4->fastmcp<3,>=2.0.0->mlflow) (4.25.1)\nRequirement already satisfied: pydantic-settings>=2.5.2 in /local_disk0/.ephemeral_nfs/envs/pythonEnv-70d5c1f9-cc9c-46eb-931f-843db9ea7b9f/lib/python3.12/site-packages (from mcp<2.0.0,>=1.12.4->fastmcp<3,>=2.0.0->mlflow) (2.10.1)\nRequirement already satisfied: python-multipart>=0.0.9 in /local_disk0/.ephemeral_nfs/envs/pythonEnv-70d5c1f9-cc9c-46eb-931f-843db9ea7b9f/lib/python3.12/site-packages (from mcp<2.0.0,>=1.12.4->fastmcp<3,>=2.0.0->mlflow) (0.0.20)\nRequirement already satisfied: sse-starlette>=1.6.1 in /local_disk0/.ephemeral_nfs/envs/pythonEnv-70d5c1f9-cc9c-46eb-931f-843db9ea7b9f/lib/python3.12/site-packages (from mcp<2.0.0,>=1.12.4->fastmcp<3,>=2.0.0->mlflow) (3.0.2)\nRequirement already satisfied: isodate in /databricks/python3/lib/python3.12/site-packages (from openapi-core>=0.19.5->fastmcp<3,>=2.0.0->mlflow) (0.7.2)\nRequirement already satisfied: jsonschema-path<0.4.0,>=0.3.1 in /local_disk0/.ephemeral_nfs/envs/pythonEnv-70d5c1f9-cc9c-46eb-931f-843db9ea7b9f/lib/python3.12/site-packages (from openapi-core>=0.19.5->fastmcp<3,>=2.0.0->mlflow) (0.3.4)\nRequirement already satisfied: more-itertools in /local_disk0/.ephemeral_nfs/envs/pythonEnv-70d5c1f9-cc9c-46eb-931f-843db9ea7b9f/lib/python3.12/site-packages (from openapi-core>=0.19.5->fastmcp<3,>=2.0.0->mlflow) (10.8.0)\nRequirement already satisfied: openapi-schema-validator<0.7.0,>=0.6.0 in /local_disk0/.ephemeral_nfs/envs/pythonEnv-70d5c1f9-cc9c-46eb-931f-843db9ea7b9f/lib/python3.12/site-packages (from openapi-core>=0.19.5->fastmcp<3,>=2.0.0->mlflow) (0.6.3)\nRequirement already satisfied: openapi-spec-validator<0.8.0,>=0.7.1 in /local_disk0/.ephemeral_nfs/envs/pythonEnv-70d5c1f9-cc9c-46eb-931f-843db9ea7b9f/lib/python3.12/site-packages (from openapi-core>=0.19.5->fastmcp<3,>=2.0.0->mlflow) (0.7.2)\nRequirement already satisfied: parse in /local_disk0/.ephemeral_nfs/envs/pythonEnv-70d5c1f9-cc9c-46eb-931f-843db9ea7b9f/lib/python3.12/site-packages (from openapi-core>=0.19.5->fastmcp<3,>=2.0.0->mlflow) (1.20.2)\nRequirement already satisfied: deprecated>=1.2.6 in /databricks/python3/lib/python3.12/site-packages (from opentelemetry-api<3,>=1.9.0->mlflow-skinny==3.4.0->mlflow) (1.2.18)\nRequirement already satisfied: opentelemetry-semantic-conventions==0.52b1 in /databricks/python3/lib/python3.12/site-packages (from opentelemetry-sdk<3,>=1.9.0->mlflow-skinny==3.4.0->mlflow) (0.52b1)\nRequirement already satisfied: annotated-types>=0.6.0 in /databricks/python3/lib/python3.12/site-packages (from pydantic<3,>=1.10.8->mlflow-skinny==3.4.0->mlflow) (0.7.0)\nRequirement already satisfied: pydantic-core==2.33.2 in /local_disk0/.ephemeral_nfs/envs/pythonEnv-70d5c1f9-cc9c-46eb-931f-843db9ea7b9f/lib/python3.12/site-packages (from pydantic<3,>=1.10.8->mlflow-skinny==3.4.0->mlflow) (2.33.2)\nRequirement already satisfied: typing-inspection>=0.4.0 in /local_disk0/.ephemeral_nfs/envs/pythonEnv-70d5c1f9-cc9c-46eb-931f-843db9ea7b9f/lib/python3.12/site-packages (from pydantic<3,>=1.10.8->mlflow-skinny==3.4.0->mlflow) (0.4.1)\nRequirement already satisfied: email-validator>=2.0.0 in /local_disk0/.ephemeral_nfs/envs/pythonEnv-70d5c1f9-cc9c-46eb-931f-843db9ea7b9f/lib/python3.12/site-packages (from pydantic[email]>=2.11.7->fastmcp<3,>=2.0.0->mlflow) (2.3.0)\nRequirement already satisfied: six>=1.5 in /usr/lib/python3/dist-packages (from python-dateutil<3,>=2.7.0->graphene<4->mlflow) (1.16.0)\nRequirement already satisfied: charset-normalizer<4,>=2 in /databricks/python3/lib/python3.12/site-packages (from requests<3,>=2.17.3->mlflow-skinny==3.4.0->mlflow) (2.0.4)\nRequirement already satisfied: markdown-it-py>=2.2.0 in /local_disk0/.ephemeral_nfs/envs/pythonEnv-70d5c1f9-cc9c-46eb-931f-843db9ea7b9f/lib/python3.12/site-packages (from rich>=13.9.4->fastmcp<3,>=2.0.0->mlflow) (4.0.0)\nRequirement already satisfied: pygments<3.0.0,>=2.13.0 in /databricks/python3/lib/python3.12/site-packages (from rich>=13.9.4->fastmcp<3,>=2.0.0->mlflow) (2.15.1)\nRequirement already satisfied: sniffio>=1.1 in /databricks/python3/lib/python3.12/site-packages (from anyio->httpx>=0.28.1->fastmcp<3,>=2.0.0->mlflow) (1.3.0)\nRequirement already satisfied: wrapt<2,>=1.10 in /databricks/python3/lib/python3.12/site-packages (from deprecated>=1.2.6->opentelemetry-api<3,>=1.9.0->mlflow-skinny==3.4.0->mlflow) (1.14.1)\nRequirement already satisfied: dnspython>=2.0.0 in /local_disk0/.ephemeral_nfs/envs/pythonEnv-70d5c1f9-cc9c-46eb-931f-843db9ea7b9f/lib/python3.12/site-packages (from email-validator>=2.0.0->pydantic[email]>=2.11.7->fastmcp<3,>=2.0.0->mlflow) (2.8.0)\nRequirement already satisfied: smmap<6,>=3.0.1 in /databricks/python3/lib/python3.12/site-packages (from gitdb<5,>=4.0.1->gitpython<4,>=3.1.9->mlflow-skinny==3.4.0->mlflow) (5.0.0)\nRequirement already satisfied: pyasn1-modules>=0.2.1 in /databricks/python3/lib/python3.12/site-packages (from google-auth~=2.0->databricks-sdk<1,>=0.20.0->mlflow-skinny==3.4.0->mlflow) (0.2.8)\nRequirement already satisfied: rsa<5,>=3.1.4 in /databricks/python3/lib/python3.12/site-packages (from google-auth~=2.0->databricks-sdk<1,>=0.20.0->mlflow-skinny==3.4.0->mlflow) (4.9)\nRequirement already satisfied: jsonschema-specifications>=2023.03.6 in /local_disk0/.ephemeral_nfs/envs/pythonEnv-70d5c1f9-cc9c-46eb-931f-843db9ea7b9f/lib/python3.12/site-packages (from jsonschema>=4.20.0->mcp<2.0.0,>=1.12.4->fastmcp<3,>=2.0.0->mlflow) (2025.9.1)\nRequirement already satisfied: referencing>=0.28.4 in /local_disk0/.ephemeral_nfs/envs/pythonEnv-70d5c1f9-cc9c-46eb-931f-843db9ea7b9f/lib/python3.12/site-packages (from jsonschema>=4.20.0->mcp<2.0.0,>=1.12.4->fastmcp<3,>=2.0.0->mlflow) (0.36.2)\nRequirement already satisfied: rpds-py>=0.7.1 in /local_disk0/.ephemeral_nfs/envs/pythonEnv-70d5c1f9-cc9c-46eb-931f-843db9ea7b9f/lib/python3.12/site-packages (from jsonschema>=4.20.0->mcp<2.0.0,>=1.12.4->fastmcp<3,>=2.0.0->mlflow) (0.27.1)\nRequirement already satisfied: pathable<0.5.0,>=0.4.1 in /local_disk0/.ephemeral_nfs/envs/pythonEnv-70d5c1f9-cc9c-46eb-931f-843db9ea7b9f/lib/python3.12/site-packages (from jsonschema-path<0.4.0,>=0.3.1->openapi-core>=0.19.5->fastmcp<3,>=2.0.0->mlflow) (0.4.4)\nRequirement already satisfied: mdurl~=0.1 in /local_disk0/.ephemeral_nfs/envs/pythonEnv-70d5c1f9-cc9c-46eb-931f-843db9ea7b9f/lib/python3.12/site-packages (from markdown-it-py>=2.2.0->rich>=13.9.4->fastmcp<3,>=2.0.0->mlflow) (0.1.2)\nRequirement already satisfied: rfc3339-validator in /local_disk0/.ephemeral_nfs/envs/pythonEnv-70d5c1f9-cc9c-46eb-931f-843db9ea7b9f/lib/python3.12/site-packages (from openapi-schema-validator<0.7.0,>=0.6.0->openapi-core>=0.19.5->fastmcp<3,>=2.0.0->mlflow) (0.1.4)\nRequirement already satisfied: lazy-object-proxy<2.0.0,>=1.7.1 in /local_disk0/.ephemeral_nfs/envs/pythonEnv-70d5c1f9-cc9c-46eb-931f-843db9ea7b9f/lib/python3.12/site-packages (from openapi-spec-validator<0.8.0,>=0.7.1->openapi-core>=0.19.5->fastmcp<3,>=2.0.0->mlflow) (1.12.0)\nRequirement already satisfied: docutils in /local_disk0/.ephemeral_nfs/envs/pythonEnv-70d5c1f9-cc9c-46eb-931f-843db9ea7b9f/lib/python3.12/site-packages (from rich-rst<2.0.0,>=1.3.1->cyclopts>=3.0.0->fastmcp<3,>=2.0.0->mlflow) (0.22.2)\nRequirement already satisfied: pyasn1<0.5.0,>=0.4.6 in /databricks/python3/lib/python3.12/site-packages (from pyasn1-modules>=0.2.1->google-auth~=2.0->databricks-sdk<1,>=0.20.0->mlflow-skinny==3.4.0->mlflow) (0.4.8)\n\u001B[43mNote: you may need to restart the kernel using %restart_python or dbutils.library.restartPython() to use updated packages.\u001B[0m\n"
     ]
    }
   ],
   "source": [
    "# Garanta que o mlflow está atualizado para o 3.0\n",
    "%pip install --upgrade mlflow"
   ]
  },
  {
   "cell_type": "code",
   "execution_count": 0,
   "metadata": {
    "application/vnd.databricks.v1+cell": {
     "cellMetadata": {
      "byteLimit": 2048000,
      "rowLimit": 10000
     },
     "inputWidgets": {},
     "nuid": "80ad1b85-679e-4c46-8f99-6abf0a13c81d",
     "showTitle": false,
     "tableResultSettingsMap": {},
     "title": ""
    }
   },
   "outputs": [
    {
     "output_type": "execute_result",
     "data": {
      "text/plain": [
       "'3.4.0'"
      ]
     },
     "execution_count": 4,
     "metadata": {},
     "output_type": "execute_result"
    }
   ],
   "source": [
    "# Verifique se a versão do mlflow é pelo menos a 3.0\n",
    "import mlflow\n",
    "mlflow.VERSION"
   ]
  },
  {
   "cell_type": "code",
   "execution_count": 0,
   "metadata": {
    "application/vnd.databricks.v1+cell": {
     "cellMetadata": {
      "byteLimit": 2048000,
      "rowLimit": 10000
     },
     "inputWidgets": {},
     "nuid": "f4a4d3cf-e6b6-4743-a7b9-1c4bd9cd49ae",
     "showTitle": false,
     "tableResultSettingsMap": {},
     "title": ""
    }
   },
   "outputs": [],
   "source": [
    "# Configure a tag de experimento\n",
    "mlflow.set_experiment_tags({\n",
    "    \"mlflow.promptRegistryLocation\": f\"{CATALOG_NAME}.{SCHEMA_NAME}\"\n",
    "})"
   ]
  },
  {
   "cell_type": "code",
   "execution_count": 0,
   "metadata": {
    "application/vnd.databricks.v1+cell": {
     "cellMetadata": {
      "byteLimit": 2048000,
      "rowLimit": 10000
     },
     "inputWidgets": {},
     "nuid": "df2f78a5-5c7f-4eb9-a216-893f517ac048",
     "showTitle": false,
     "tableResultSettingsMap": {},
     "title": ""
    }
   },
   "outputs": [
    {
     "output_type": "stream",
     "name": "stdout",
     "output_type": "stream",
     "text": [
      "Prompt criado 'baraldi_catalog_new.genai.prompt_sumarizacao' (version 1)\n"
     ]
    }
   ],
   "source": [
    "# Substitua com seu catalogo e schema\n",
    "uc_schema = f\"{CATALOG_NAME}.{SCHEMA_NAME}\"\n",
    "\n",
    "# Nomeie o prompt\n",
    "prompt_name = \"prompt_sumarizacao\"\n",
    "\n",
    "# Defina o prompt\n",
    "initial_template = \"\"\"\\\n",
    "Sumarize o conteúdo em {{num_sentences}} sentenças.\n",
    "\n",
    "Conteúdo: {{content}}\n",
    "\"\"\"\n",
    "\n",
    "# Registre um novo prompt\n",
    "prompt = mlflow.genai.register_prompt(\n",
    "    name=f\"{uc_schema}.{prompt_name}\",\n",
    "    template=initial_template,\n",
    "    # Parametros opcionais\n",
    "    commit_message=\"Initial version of summarization prompt\",\n",
    "    tags={\n",
    "        \"author\": \"data-science-team@company.com\",\n",
    "        \"use_case\": \"document_summarization\",\n",
    "        \"task\": \"summarization\",\n",
    "        \"language\": \"pt-br\",\n",
    "        \"model_compatibility\": \"modelo\"\n",
    "    }\n",
    ")\n",
    "\n",
    "print(f\"Prompt criado '{prompt.name}' (version {prompt.version})\")"
   ]
  },
  {
   "cell_type": "code",
   "execution_count": 0,
   "metadata": {
    "application/vnd.databricks.v1+cell": {
     "cellMetadata": {
      "byteLimit": 2048000,
      "rowLimit": 10000
     },
     "inputWidgets": {},
     "nuid": "dd24b951-a6a7-4a99-a13b-4c2ae3094e83",
     "showTitle": false,
     "tableResultSettingsMap": {},
     "title": ""
    }
   },
   "outputs": [],
   "source": [
    "# Carregue uma versão específica\n",
    "prompt = mlflow.genai.load_prompt(name_or_uri=f\"prompts:/{uc_schema}.{prompt_name}/1\")\n",
    "\n",
    "# Ou use a sintaxe alternativa\n",
    "prompt = mlflow.genai.load_prompt(name_or_uri=f\"{uc_schema}.{prompt_name}\", version=\"1\")"
   ]
  },
  {
   "cell_type": "code",
   "execution_count": 0,
   "metadata": {
    "application/vnd.databricks.v1+cell": {
     "cellMetadata": {
      "byteLimit": 2048000,
      "rowLimit": 10000
     },
     "inputWidgets": {},
     "nuid": "d4e7da35-442c-4341-8bb2-0ad0957462bb",
     "showTitle": false,
     "tableResultSettingsMap": {},
     "title": ""
    }
   },
   "outputs": [],
   "source": [
    "# Importe as bibliotecas\n",
    "import mlflow\n",
    "from databricks.sdk import WorkspaceClient"
   ]
  },
  {
   "cell_type": "code",
   "execution_count": 0,
   "metadata": {
    "application/vnd.databricks.v1+cell": {
     "cellMetadata": {
      "byteLimit": 2048000,
      "rowLimit": 10000
     },
     "inputWidgets": {},
     "nuid": "0a7e2c70-4093-4a0b-945e-c7ba4fb02414",
     "showTitle": false,
     "tableResultSettingsMap": {},
     "title": ""
    }
   },
   "outputs": [
    {
     "output_type": "stream",
     "name": "stdout",
     "output_type": "stream",
     "text": [
      "Requirement already satisfied: openai in /local_disk0/.ephemeral_nfs/envs/pythonEnv-70d5c1f9-cc9c-46eb-931f-843db9ea7b9f/lib/python3.12/site-packages (1.108.2)\nRequirement already satisfied: anyio<5,>=3.5.0 in /local_disk0/.ephemeral_nfs/envs/pythonEnv-70d5c1f9-cc9c-46eb-931f-843db9ea7b9f/lib/python3.12/site-packages (from openai) (4.11.0)\nRequirement already satisfied: distro<2,>=1.7.0 in /usr/lib/python3/dist-packages (from openai) (1.9.0)\nRequirement already satisfied: httpx<1,>=0.23.0 in /local_disk0/.ephemeral_nfs/envs/pythonEnv-70d5c1f9-cc9c-46eb-931f-843db9ea7b9f/lib/python3.12/site-packages (from openai) (0.28.1)\nRequirement already satisfied: jiter<1,>=0.4.0 in /local_disk0/.ephemeral_nfs/envs/pythonEnv-70d5c1f9-cc9c-46eb-931f-843db9ea7b9f/lib/python3.12/site-packages (from openai) (0.11.0)\nRequirement already satisfied: pydantic<3,>=1.9.0 in /local_disk0/.ephemeral_nfs/envs/pythonEnv-70d5c1f9-cc9c-46eb-931f-843db9ea7b9f/lib/python3.12/site-packages (from openai) (2.11.9)\nRequirement already satisfied: sniffio in /databricks/python3/lib/python3.12/site-packages (from openai) (1.3.0)\nRequirement already satisfied: tqdm>4 in /local_disk0/.ephemeral_nfs/envs/pythonEnv-70d5c1f9-cc9c-46eb-931f-843db9ea7b9f/lib/python3.12/site-packages (from openai) (4.67.1)\nRequirement already satisfied: typing-extensions<5,>=4.11 in /local_disk0/.ephemeral_nfs/envs/pythonEnv-70d5c1f9-cc9c-46eb-931f-843db9ea7b9f/lib/python3.12/site-packages (from openai) (4.15.0)\nRequirement already satisfied: idna>=2.8 in /databricks/python3/lib/python3.12/site-packages (from anyio<5,>=3.5.0->openai) (3.7)\nRequirement already satisfied: certifi in /databricks/python3/lib/python3.12/site-packages (from httpx<1,>=0.23.0->openai) (2024.6.2)\nRequirement already satisfied: httpcore==1.* in /local_disk0/.ephemeral_nfs/envs/pythonEnv-70d5c1f9-cc9c-46eb-931f-843db9ea7b9f/lib/python3.12/site-packages (from httpx<1,>=0.23.0->openai) (1.0.9)\nRequirement already satisfied: h11>=0.16 in /local_disk0/.ephemeral_nfs/envs/pythonEnv-70d5c1f9-cc9c-46eb-931f-843db9ea7b9f/lib/python3.12/site-packages (from httpcore==1.*->httpx<1,>=0.23.0->openai) (0.16.0)\nRequirement already satisfied: annotated-types>=0.6.0 in /databricks/python3/lib/python3.12/site-packages (from pydantic<3,>=1.9.0->openai) (0.7.0)\nRequirement already satisfied: pydantic-core==2.33.2 in /local_disk0/.ephemeral_nfs/envs/pythonEnv-70d5c1f9-cc9c-46eb-931f-843db9ea7b9f/lib/python3.12/site-packages (from pydantic<3,>=1.9.0->openai) (2.33.2)\nRequirement already satisfied: typing-inspection>=0.4.0 in /local_disk0/.ephemeral_nfs/envs/pythonEnv-70d5c1f9-cc9c-46eb-931f-843db9ea7b9f/lib/python3.12/site-packages (from pydantic<3,>=1.9.0->openai) (0.4.1)\n\u001B[43mNote: you may need to restart the kernel using %restart_python or dbutils.library.restartPython() to use updated packages.\u001B[0m\n"
     ]
    }
   ],
   "source": [
    "# Instale a biblioteca da openai\n",
    "%pip install openai"
   ]
  },
  {
   "cell_type": "code",
   "execution_count": 0,
   "metadata": {
    "application/vnd.databricks.v1+cell": {
     "cellMetadata": {
      "byteLimit": 2048000,
      "rowLimit": 10000
     },
     "inputWidgets": {},
     "nuid": "a8dfdda5-3707-48cf-9c75-82dead4489d4",
     "showTitle": false,
     "tableResultSettingsMap": {},
     "title": ""
    }
   },
   "outputs": [],
   "source": [
    "# Habilite o autolog\n",
    "mlflow.openai.autolog()\n",
    "\n",
    "# Configure o tracking\n",
    "mlflow.set_tracking_uri(\"databricks\")\n",
    "mlflow.set_experiment(\"/Users/daniel.baraldi@databricks.com/experimentoteste\")\n",
    "\n",
    "# Configure o client\n",
    "w = WorkspaceClient()\n",
    "client = w.serving_endpoints.get_open_ai_client()\n",
    "\n",
    "# Selecione uma LLM\n",
    "model_name = \"databricks-claude-sonnet-4\""
   ]
  },
  {
   "cell_type": "code",
   "execution_count": 0,
   "metadata": {
    "application/vnd.databricks.v1+cell": {
     "cellMetadata": {
      "byteLimit": 2048000,
      "rowLimit": 10000
     },
     "inputWidgets": {},
     "nuid": "11ff9f1b-6036-4a30-affd-6635d7a476d4",
     "showTitle": false,
     "tableResultSettingsMap": {},
     "title": ""
    }
   },
   "outputs": [
    {
     "output_type": "execute_result",
     "data": {
      "text/plain": [
       "'Um forte temporal atingiu a Região Metropolitana de São Paulo na segunda-feira (22), deixando 214 mil imóveis sem energia elétrica, causando cancelamentos de voos em Congonhas e diversos transtornos pela cidade, com previsão de mais chuvas ao longo da semana.'"
      ]
     },
     "execution_count": 11,
     "metadata": {},
     "output_type": "execute_result"
    },
    {
     "output_type": "display_data",
     "data": {
      "application/databricks.mlflow.trace": "\"tr-3115465f572f345841cf7d9c2761945b\"",
      "text/plain": [
       "Trace(trace_id=tr-3115465f572f345841cf7d9c2761945b)"
      ]
     },
     "metadata": {},
     "output_type": "display_data"
    }
   ],
   "source": [
    "# Crie a aplicação\n",
    "# Use o decorator para o entry point\n",
    "@mlflow.trace\n",
    "def my_app(content: str, num_sentences: int):\n",
    "    # Formate com variáveis\n",
    "    formatted_prompt = prompt.format(\n",
    "        content=content,\n",
    "        num_sentences=num_sentences\n",
    "    )\n",
    "\n",
    "    response = client.chat.completions.create(\n",
    "        model=model_name,\n",
    "        messages=[\n",
    "            {\n",
    "                \"role\": \"system\",\n",
    "                \"content\": \"Você é um assistente útil e educado.\",\n",
    "            },\n",
    "            {\n",
    "                \"role\": \"user\",\n",
    "                \"content\": formatted_prompt,\n",
    "            },\n",
    "        ],\n",
    "    )\n",
    "    return response.choices[0].message.content\n",
    "\n",
    "result = my_app(content=\"\"\"Pelo menos 214 mil imóveis na Região Metropolitana de São Paulo ainda estavam sem energia elétrica na manhã desta terça-feira (23) em razão do forte temporal da tarde de segunda (22).\n",
    "\n",
    "A cidade de Cajamar é a mais prejudicada até o momento, com cerca de 21% dos imóveis sem luz. No total, havia cerca de 9,8 mil endereços no escuro na cidade até as ê7h da manhã, segundo o balanço da concessionária Enel.\n",
    "\n",
    "As cidades de Diadema, Osasco, Cotia e Embu das Artes também têm mais milhares de imóveis sem luz. Em Osasco, também há 9,7 mil endereços sem fornecimento de energia, conforme a tabela abaixo.\n",
    "\n",
    "A chuva que atingiu toda a Grande São Paulo também teve reflexo na operação no aeroporto de Congonhas, na Zona Sul de São Paulo, na manhã desta terça.\n",
    "\n",
    "Segundo a Concessionária Aena, pelo menos quatro voos haviam sido cancelados no início da manhã em razão do mau tempo.\n",
    "\n",
    "Os destinos dos voos eram para o Rio de Janeiro, Porto Alegre, Vitória e Salvador, das companhias aéreas Gol e Latam.\n",
    "\n",
    "Na tarde de segunda, Congonhas sofreu com a chuva forte, que causou goteiras dentro da sala de embarque. Ao menos 13 pousos e 12 decolagens também foram cancelados, além de sete voos desviados para outros aeroportos, por causa do mau tempo.\n",
    "\n",
    "Previsão para terça (23)\n",
    "Essa terça-feira também será marcada por pancadas de chuva, segundo o Instituto Nacional de Meteorologia (Inmet). Os termômetros devem variar entre 14°C e 22°C. À noite, o céu deve ficar limpo.\n",
    "\n",
    "Na segunda, a chuva causou transtornos em diferentes pontos da cidade. Na região do Pacaembu, Zona Oeste, próximo ao estádio, mansões ficaram destalhadas. No Brás, no Centro, parte do teto da estação da CPTM desabou. Passageiros registraram água da chuva caindo no saguão da estação, e o chão completamente molhado.\n",
    "\n",
    "\n",
    "De acordo com o Inmet, a chuva deve seguir ao longo da semana, com previsão de pancadas na quarta (24) e na quinta (25).\n",
    "\n",
    "Já na sexta (26) deve ser registrada a temperatura mais baixa da semana: mínima de 10°C, mas não deve chover.\"\"\", num_sentences=1)\n",
    "result"
   ]
  },
  {
   "cell_type": "code",
   "execution_count": 0,
   "metadata": {
    "application/vnd.databricks.v1+cell": {
     "cellMetadata": {
      "byteLimit": 2048000,
      "rowLimit": 10000
     },
     "inputWidgets": {},
     "nuid": "b6630106-3f1e-47bf-acd9-5ae41864d40e",
     "showTitle": false,
     "tableResultSettingsMap": {},
     "title": ""
    }
   },
   "outputs": [
    {
     "output_type": "stream",
     "name": "stdout",
     "output_type": "stream",
     "text": [
      "Criada versão 2 of 'baraldi_catalog_new.genai.prompt_sumarizacao'\n"
     ]
    }
   ],
   "source": [
    "# Defina um novo prompt\n",
    "new_template = \"\"\"\\\n",
    "Você é um expert em sumarização. Condense o conteúdo em exatamente {{ num_sentences }} sentença clara e informativa que captura pontos principais.\n",
    "\n",
    "Conteúdo: {{content}}\n",
    "\n",
    "Sua sumarização deve:\n",
    "- Conter exatamente {{num_sentences}} sentença\n",
    "- Incluir apenas a informação mais importante\n",
    "- Ser escrito em tom neutro e objetivo\n",
    "- Manter o mesmo nível de formalidade que o texto original\n",
    "\"\"\"\n",
    "\n",
    "# Registre a nova versão\n",
    "updated_prompt = mlflow.genai.register_prompt(\n",
    "    name=f\"{uc_schema}.{prompt_name}\",\n",
    "    template=new_template,\n",
    "    commit_message=\"Added detailed instructions for better output quality\",\n",
    "    tags={\n",
    "        \"author\": \"data-science-team@company.com\",\n",
    "        \"improvement\": \"Added specific guidelines for summary quality\"\n",
    "    }\n",
    ")\n",
    "\n",
    "print(f\"Criada versão {updated_prompt.version} of '{updated_prompt.name}'\")"
   ]
  },
  {
   "cell_type": "code",
   "execution_count": 0,
   "metadata": {
    "application/vnd.databricks.v1+cell": {
     "cellMetadata": {
      "byteLimit": 2048000,
      "rowLimit": 10000
     },
     "inputWidgets": {},
     "nuid": "55f8e230-99c8-4fdd-b8e4-f92e103b2520",
     "showTitle": false,
     "tableResultSettingsMap": {},
     "title": ""
    }
   },
   "outputs": [],
   "source": [
    "# Carregue uma versão específica\n",
    "prompt = mlflow.genai.load_prompt(name_or_uri=f\"prompts:/{uc_schema}.{prompt_name}/2\")\n",
    "\n",
    "# Ou use outra sintaxe\n",
    "prompt = mlflow.genai.load_prompt(name_or_uri=f\"{uc_schema}.{prompt_name}\", version=\"2\")"
   ]
  },
  {
   "cell_type": "code",
   "execution_count": 0,
   "metadata": {
    "application/vnd.databricks.v1+cell": {
     "cellMetadata": {
      "byteLimit": 2048000,
      "rowLimit": 10000
     },
     "inputWidgets": {},
     "nuid": "131683f2-ae4b-43b8-97a2-faa21c8df6d7",
     "showTitle": false,
     "tableResultSettingsMap": {},
     "title": ""
    }
   },
   "outputs": [
    {
     "output_type": "execute_result",
     "data": {
      "text/plain": [
       "[<PromptInfo: name='baraldi_catalog_new.genai.prompt_sumarizacao', description='Initial version of summarization prompt', tags={'author': 'data-science-team@company.com', 'use_case': 'document_summarization', 'task': 'summarization', 'language': 'pt-br', 'model_compatibility': 'modelo', 'PromptVersionCount': '2'}>]"
      ]
     },
     "execution_count": 14,
     "metadata": {},
     "output_type": "execute_result"
    }
   ],
   "source": [
    "# Busque prompts\n",
    "results = mlflow.genai.search_prompts(f\"catalog = '{CATALOG_NAME}' AND schema = '{SCHEMA_NAME}'\")\n",
    "\n",
    "# Use variáveis para o schema\n",
    "catalog_name = uc_schema.split('.')[0] \n",
    "schema_name = uc_schema.split('.')[1]  \n",
    "results = mlflow.genai.search_prompts(f\"catalog = '{catalog_name}' AND schema = '{schema_name}'\")\n",
    "\n",
    "# Limite resultados\n",
    "results = mlflow.genai.search_prompts(\n",
    "    filter_string=f\"catalog = '{catalog_name}' AND schema = '{schema_name}'\",\n",
    "    max_results=50\n",
    ")\n",
    "results"
   ]
  },
  {
   "cell_type": "code",
   "execution_count": 0,
   "metadata": {
    "application/vnd.databricks.v1+cell": {
     "cellMetadata": {
      "byteLimit": 2048000,
      "rowLimit": 10000
     },
     "inputWidgets": {},
     "nuid": "4a5b7f45-46fe-4d98-ab06-87c5767f8c6f",
     "showTitle": false,
     "tableResultSettingsMap": {},
     "title": ""
    }
   },
   "outputs": [],
   "source": []
  }
 ],
 "metadata": {
  "application/vnd.databricks.v1+notebook": {
   "computePreferences": null,
   "dashboards": [],
   "environmentMetadata": {
    "base_environment": "dbe_65bc13ea-276c-4905-a728-9fe2fb1780e2",
    "environment_version": "3"
   },
   "inputWidgetPreferences": null,
   "language": "python",
   "notebookMetadata": {
    "pythonIndentUnit": 2
   },
   "notebookName": "05_GenAI_Prompt",
   "widgets": {}
  },
  "language_info": {
   "name": "python"
  }
 },
 "nbformat": 4,
 "nbformat_minor": 0
}